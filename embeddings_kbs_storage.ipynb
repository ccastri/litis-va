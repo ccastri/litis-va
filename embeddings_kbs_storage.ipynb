{
 "cells": [
  {
   "cell_type": "code",
   "execution_count": 1,
   "id": "60e491e5",
   "metadata": {},
   "outputs": [
    {
     "data": {
      "text/plain": [
       "True"
      ]
     },
     "execution_count": 1,
     "metadata": {},
     "output_type": "execute_result"
    }
   ],
   "source": [
    "import redis\n",
    "from dotenv import load_dotenv\n",
    "import os\n",
    "load_dotenv()\n",
    "\n"
   ]
  },
  {
   "cell_type": "code",
   "execution_count": 23,
   "id": "3a7ac113-bd8d-4163-8b33-45c8340b6575",
   "metadata": {},
   "outputs": [],
   "source": [
    "### This is direct connection pytho core redis\n",
    "# Get Redis connection details from environment variables\n",
    "# redis_user_id = os.getenv(\"REDIS_USER_ID\")\n",
    "redis_host = os.getenv(\"REDIS_HOST\")\n",
    "redis_port = os.getenv(\"REDIS_PORT\")\n",
    "redis_password = os.getenv(\"REDIS_PASSWORD\")\n",
    "\n",
    "# Create a Redis connection\n",
    "redis_url = f\"redis://default:{redis_password}@{redis_host}:{redis_port}\"\n",
    "redis_client = redis.StrictRedis.from_url(redis_url)"
   ]
  },
  {
   "cell_type": "code",
   "execution_count": 11,
   "id": "9907521e-fbdb-4ebf-baaa-c706bc1d1a5f",
   "metadata": {},
   "outputs": [
    {
     "name": "stdout",
     "output_type": "stream",
     "text": [
      "Connection to Redis successful: True\n"
     ]
    }
   ],
   "source": [
    "    ping_result = redis_client.ping()\n",
    "    print(f\"Connection to Redis successful: {ping_result}\")"
   ]
  },
  {
   "cell_type": "code",
   "execution_count": 2,
   "id": "d28898ca-19f1-4e59-bc9c-8940c035753b",
   "metadata": {},
   "outputs": [],
   "source": [
    "from langchain.vectorstores.redis import Redis"
   ]
  },
  {
   "cell_type": "code",
   "execution_count": 19,
   "id": "1cf65458-beba-49a5-8143-42699d4c958f",
   "metadata": {},
   "outputs": [],
   "source": [
    "####For langchain methods\n",
    "# redis_user_id = os.getenv(\"REDIS_USER_ID\")\n",
    "redis_host = os.getenv(\"REDIS_HOST\")\n",
    "redis_port = os.getenv(\"REDIS_PORT\")\n",
    "redis_password = os.getenv(\"REDIS_PASSWORD\")\n",
    "r=redis.Redis(host = redis_host,\n",
    "              port=redis_port,\n",
    "              password= redis_password)"
   ]
  },
  {
   "cell_type": "code",
   "execution_count": 6,
   "id": "969a43c8-d408-4ab4-a448-504910aff1f8",
   "metadata": {},
   "outputs": [
    {
     "data": {
      "text/plain": [
       "True"
      ]
     },
     "execution_count": 6,
     "metadata": {},
     "output_type": "execute_result"
    }
   ],
   "source": [
    "r.ping()"
   ]
  },
  {
   "cell_type": "code",
   "execution_count": 12,
   "id": "69624e2a-184e-4bae-9955-db54c17665dd",
   "metadata": {},
   "outputs": [
    {
     "name": "stdout",
     "output_type": "stream",
     "text": [
      "[]\n",
      "[]\n"
     ]
    }
   ],
   "source": [
    "print(r.keys())\n",
    "print(redis_client.keys())"
   ]
  },
  {
   "cell_type": "code",
   "execution_count": 44,
   "id": "19980368",
   "metadata": {},
   "outputs": [
    {
     "name": "stdout",
     "output_type": "stream",
     "text": [
      "PDF 'codigo_sustantivo_trabajo' loaded into Redis successfully.\n"
     ]
    }
   ],
   "source": [
    "def load_pdf_to_redis(redis_host, redis_port, redis_password, pdf_path, pdf_key):\n",
    "    try:\n",
    "        # Create a Redis connection\n",
    "        redis_url = f\"redis://default:{redis_password}@{redis_host}:{redis_port}\"\n",
    "        redis_client = redis.StrictRedis.from_url(redis_url)\n",
    "        \n",
    "        # Get the full path to the PDF file in the /static folder\n",
    "        static_folder = os.path.join(os.getcwd(), 'static')\n",
    "        pdf_path = os.path.join(static_folder, pdf_filename)\n",
    "        \n",
    "        # Read the PDF file\n",
    "        with open(pdf_path, 'rb') as pdf_file:\n",
    "            pdf_content = pdf_file.read()\n",
    "\n",
    "        # Store the PDF content in Redis\n",
    "        redis_client.set(pdf_key, pdf_content)\n",
    "\n",
    "        print(f\"PDF '{pdf_key}' loaded into Redis successfully.\")\n",
    "    except Exception as e:\n",
    "        print(f\"Error loading PDF into Redis: {e}\")\n",
    "\n",
    "pdf_filename = \"codigo_sustantivo_del_trabajo_colombia.pdf\"  # Adjust the filename accordingly\n",
    "pdf_key = \"codigo_sustantivo_trabajo\""
   ]
  },
  {
   "cell_type": "code",
   "execution_count": 36,
   "id": "d027fa28-4e70-4390-8a15-6c5705d885c9",
   "metadata": {},
   "outputs": [
    {
     "name": "stdout",
     "output_type": "stream",
     "text": [
      "Error al obtener el PDF desde Redis: Port could not be cast to integer value as 'redis_port'\n"
     ]
    }
   ],
   "source": [
    "pdf_content_from_redis = redis_client.get(pdf_key)\n",
    "if pdf_content_from_redis:\n",
    "            # Puedes utilizar el contenido del PDF como desees\n",
    "            # En este ejemplo, simplemente lo imprimimos\n",
    "    print(pdf_content_from_redis.decode('utf-8'))\n",
    "    else:\n",
    "            print(f\"Error: No se encontró el PDF con la clave '{pdf_key}' en Redis.\")"
   ]
  },
  {
   "cell_type": "code",
   "execution_count": 45,
   "id": "3eb5066d-34df-45e9-8551-d45e2eb59ee1",
   "metadata": {},
   "outputs": [
    {
     "ename": "NameError",
     "evalue": "name 'static_folder' is not defined",
     "output_type": "error",
     "traceback": [
      "\u001b[1;31m---------------------------------------------------------------------------\u001b[0m",
      "\u001b[1;31mNameError\u001b[0m                                 Traceback (most recent call last)",
      "Cell \u001b[1;32mIn[45], line 50\u001b[0m\n\u001b[0;32m     47\u001b[0m         \u001b[38;5;28mprint\u001b[39m(\u001b[38;5;124mf\u001b[39m\u001b[38;5;124m\"\u001b[39m\u001b[38;5;124mError loading embeddings into Redis: \u001b[39m\u001b[38;5;132;01m{\u001b[39;00me\u001b[38;5;132;01m}\u001b[39;00m\u001b[38;5;124m\"\u001b[39m)\n\u001b[0;32m     49\u001b[0m \u001b[38;5;66;03m# Example usage\u001b[39;00m\n\u001b[1;32m---> 50\u001b[0m file_path \u001b[38;5;241m=\u001b[39m os\u001b[38;5;241m.\u001b[39mpath\u001b[38;5;241m.\u001b[39mjoin(\u001b[43mstatic_folder\u001b[49m, pdf_filename)\n\u001b[0;32m     51\u001b[0m redis_key \u001b[38;5;241m=\u001b[39m \u001b[38;5;124m\"\u001b[39m\u001b[38;5;124mcodigo_sustantivo_trabajo\u001b[39m\u001b[38;5;124m\"\u001b[39m\n\u001b[0;32m     53\u001b[0m \u001b[38;5;66;03m# Process the file and get the documents\u001b[39;00m\n",
      "\u001b[1;31mNameError\u001b[0m: name 'static_folder' is not defined"
     ]
    }
   ],
   "source": [
    "import os\n",
    "import redis\n",
    "from langchain.document_loaders import PyPDFLoader, TextLoader\n",
    "from langchain.text_splitter import RecursiveCharacterTextSplitter\n",
    "from langchain.embeddings.openai import OpenAIEmbeddings\n",
    "\n",
    "# Load environment variables\n",
    "load_dotenv()\n",
    "openai_api_key = os.getenv(\"OPENAI_API_KEY\")\n",
    "redis_host = os.getenv(\"REDIS_HOST\")\n",
    "redis_port = os.getenv(\"REDIS_PORT\")\n",
    "redis_password = os.getenv(\"REDIS_PASSWORD\")\n",
    "\n",
    "# Initialize Redis connection\n",
    "redis_url = f\"redis://default:{redis_password}@{redis_host}:{redis_port}\"\n",
    "redis_client = redis.StrictRedis.from_url(redis_url)\n",
    "\n",
    "text_splitter = RecursiveCharacterTextSplitter(chunk_size=1000, chunk_overlap=100)\n",
    "embeddings = OpenAIEmbeddings()\n",
    "\n",
    "def process_file(file_path):\n",
    "    loader = None\n",
    "\n",
    "    if file_path.endswith(\".txt\"):\n",
    "        loader = TextLoader\n",
    "    elif file_path.endswith(\".pdf\"):\n",
    "        loader = PyPDFLoader\n",
    "\n",
    "    if loader:\n",
    "        documents = loader(file_path).load()\n",
    "        docs = text_splitter.split_documents(documents)\n",
    "        return docs\n",
    "    else:\n",
    "        return None\n",
    "\n",
    "def save_embeddings_to_redis(docs, redis_key):\n",
    "    try:\n",
    "        for i, doc in enumerate(docs):\n",
    "            # Extract text content from the document\n",
    "            text_content = doc.page_content\n",
    "            # Get embeddings for the text\n",
    "            vector_representation = embeddings.get_vector(text_content)\n",
    "            # Store the vector representation in Redis\n",
    "            redis_client.set(f\"{redis_key}_{i}\", vector_representation.tobytes())\n",
    "        print(f\"Vector embeddings for key '{redis_key}' loaded into Redis successfully.\")\n",
    "    except Exception as e:\n",
    "        print(f\"Error loading embeddings into Redis: {e}\")\n",
    "\n",
    "# Example usage\n",
    "file_path = os.path.join(static_folder, pdf_filename)\n",
    "redis_key = \"codigo_sustantivo_trabajo\"\n",
    "\n",
    "# Process the file and get the documents\n",
    "docs = process_file(file_path)\n",
    "\n",
    "if docs:\n",
    "    # Save embeddings to Redis\n",
    "    save_embeddings_to_redis(docs, redis_key)\n",
    "else:\n",
    "    print(\"Unsupported file format.\")\n"
   ]
  },
  {
   "cell_type": "code",
   "execution_count": null,
   "id": "4d0770ea-ef58-4753-a058-b928f88075f2",
   "metadata": {},
   "outputs": [],
   "source": []
  },
  {
   "cell_type": "code",
   "execution_count": null,
   "id": "352c1302-62ed-4f78-b2c7-56b493efa513",
   "metadata": {},
   "outputs": [],
   "source": []
  }
 ],
 "metadata": {
  "kernelspec": {
   "display_name": "Python 3 (ipykernel)",
   "language": "python",
   "name": "python3"
  },
  "language_info": {
   "codemirror_mode": {
    "name": "ipython",
    "version": 3
   },
   "file_extension": ".py",
   "mimetype": "text/x-python",
   "name": "python",
   "nbconvert_exporter": "python",
   "pygments_lexer": "ipython3",
   "version": "3.10.0"
  }
 },
 "nbformat": 4,
 "nbformat_minor": 5
}
